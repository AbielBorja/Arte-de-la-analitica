{
 "cells": [
  {
   "cell_type": "markdown",
   "id": "bb12abb4",
   "metadata": {},
   "source": [
    "# Arte de la Analítica!!\n",
    "## Subtitle\n",
    "### Heading\n",
    "#### Sub Heading\n",
    "\n",
    "Ejercicios con Python:\n",
    "\n",
    "1. Escribir una función de Python que encuentre los números primos en los primeros N números naturales. N es el argumento de la función Llamar la función desde el código principal\n",
    "\n",
    "2. Escribir una función de Pyton que encuentre el producto cruz en vectores de 3 componentes. La función recibe dos listas (vectores) La función regresa un tercer vector (lista) con el resultado Llamar a la función desde el código principal\n",
    "\n",
    "3. Re-escribir el problema 2, pero ahora los vectores son leídos desde un archivo de texto.\n",
    "\n",
    "comentario"
   ]
  },
  {
   "cell_type": "code",
   "execution_count": 1,
   "id": "c5c2fda5",
   "metadata": {},
   "outputs": [
    {
     "name": "stdout",
     "output_type": "stream",
     "text": [
      "Hello World\n"
     ]
    }
   ],
   "source": [
    "print(\"Hello World\")"
   ]
  },
  {
   "cell_type": "code",
   "execution_count": 17,
   "id": "5a19647c",
   "metadata": {
    "scrolled": true
   },
   "outputs": [
    {
     "name": "stdout",
     "output_type": "stream",
     "text": [
      "1  es primo.\n",
      "2  es primo.\n",
      "3  es primo.\n",
      "5  es primo.\n",
      "7  es primo.\n",
      "11  es primo.\n",
      "13  es primo.\n",
      "17  es primo.\n",
      "19  es primo.\n"
     ]
    }
   ],
   "source": [
    "def esPrimo(num):\n",
    "    for n in range(2, num):\n",
    "        if num % n == 0:\n",
    "            return False\n",
    "    return True\n",
    "\n",
    "def losPrimos(num):\n",
    "    c = 0\n",
    "    i = 0\n",
    "    while c <= num:\n",
    "        i += 1\n",
    "        c += 1\n",
    "        if esPrimo(i):\n",
    "            print(i, \" es primo.\")\n",
    "\n",
    "losPrimos(20)"
   ]
  },
  {
   "cell_type": "code",
   "execution_count": 19,
   "id": "6df24130",
   "metadata": {},
   "outputs": [
    {
     "name": "stdout",
     "output_type": "stream",
     "text": [
      "[-12, -10, 0]\n"
     ]
    }
   ],
   "source": [
    "def cross(v1, v2):\n",
    "    lst = []\n",
    "    lst.append(v1[1]*v2[2] - v1[2]*v2[1])\n",
    "    lst.append(v1[0] * v2[2] - v1[2]*v2[0])\n",
    "    lst.append(v1[0] * v2[1] - v1[0]*v2[1])\n",
    "    return lst\n",
    "\n",
    "a = [1, 2, 4]\n",
    "b = [3, 4, 2]\n",
    "print(cross(a, b))"
   ]
  },
  {
   "cell_type": "code",
   "execution_count": 2,
   "id": "e9dc1a50",
   "metadata": {},
   "outputs": [],
   "source": [
    "import csv\n",
    "filas = []\n",
    "with open(\"vectors.csv\", 'r') as file:\n",
    "    csvr = csv.reader(file)\n",
    "    for row in csvr:\n",
    "        filas.append(row)\n",
    "print(filas)\n",
    "\n",
    "x = [float(filas[0][0]), float(filas[0][1]), float(filas[0][2])]\n",
    "y = [float(filas[1][0]), float(filas[1][1]), float(filas[1][2])]\n",
    "\n",
    "cr = cross(x, y)\n",
    "print(\"a= \", x)\n",
    "print(\"b= \", y)\n",
    "print(\"a x b =\", cr)"
   ]
  },
  {
   "cell_type": "code",
   "execution_count": null,
   "id": "3e24f069",
   "metadata": {},
   "outputs": [],
   "source": []
  }
 ],
 "metadata": {
  "kernelspec": {
   "display_name": "Python 3 (ipykernel)",
   "language": "python",
   "name": "python3"
  },
  "language_info": {
   "codemirror_mode": {
    "name": "ipython",
    "version": 3
   },
   "file_extension": ".py",
   "mimetype": "text/x-python",
   "name": "python",
   "nbconvert_exporter": "python",
   "pygments_lexer": "ipython3",
   "version": "3.9.12"
  }
 },
 "nbformat": 4,
 "nbformat_minor": 5
}
